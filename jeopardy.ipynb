{
 "cells": [
  {
   "cell_type": "markdown",
   "metadata": {},
   "source": [
    "# How to win in Jeopardy?"
   ]
  },
  {
   "cell_type": "markdown",
   "metadata": {},
   "source": [
    "Jeopardy! is an American television game show. The show features a quiz competition in which contestants are presented with general knowledge clues in the form of answers, and must phrase their responses in the form of questions. For example, if a contestant were to select \"Presidents for $200\", the resulting clue could be \"This 'Father of Our Country' didn't really chop down a cherry tree\", to which the correct response is \"Who is/was George Washington?\"\n",
    "\n",
    "In this analysis we will try to figure out whether one should study past questions, study general knowledge, or not study it all to increase the chances to perform better on the show.\n",
    "\n",
    "Data set contains over 200000 rows(10% of all the questions that ever appeared on the show) of information in csv format."
   ]
  },
  {
   "cell_type": "code",
   "execution_count": 71,
   "metadata": {
    "scrolled": true
   },
   "outputs": [
    {
     "data": {
      "text/html": [
       "<div>\n",
       "<style scoped>\n",
       "    .dataframe tbody tr th:only-of-type {\n",
       "        vertical-align: middle;\n",
       "    }\n",
       "\n",
       "    .dataframe tbody tr th {\n",
       "        vertical-align: top;\n",
       "    }\n",
       "\n",
       "    .dataframe thead th {\n",
       "        text-align: right;\n",
       "    }\n",
       "</style>\n",
       "<table border=\"1\" class=\"dataframe\">\n",
       "  <thead>\n",
       "    <tr style=\"text-align: right;\">\n",
       "      <th></th>\n",
       "      <th>Show Number</th>\n",
       "      <th>Air Date</th>\n",
       "      <th>Round</th>\n",
       "      <th>Category</th>\n",
       "      <th>Value</th>\n",
       "      <th>Question</th>\n",
       "      <th>Answer</th>\n",
       "    </tr>\n",
       "  </thead>\n",
       "  <tbody>\n",
       "    <tr>\n",
       "      <th>0</th>\n",
       "      <td>4680</td>\n",
       "      <td>2004-12-31</td>\n",
       "      <td>Jeopardy!</td>\n",
       "      <td>HISTORY</td>\n",
       "      <td>$200</td>\n",
       "      <td>For the last 8 years of his life, Galileo was ...</td>\n",
       "      <td>Copernicus</td>\n",
       "    </tr>\n",
       "    <tr>\n",
       "      <th>1</th>\n",
       "      <td>4680</td>\n",
       "      <td>2004-12-31</td>\n",
       "      <td>Jeopardy!</td>\n",
       "      <td>ESPN's TOP 10 ALL-TIME ATHLETES</td>\n",
       "      <td>$200</td>\n",
       "      <td>No. 2: 1912 Olympian; football star at Carlisl...</td>\n",
       "      <td>Jim Thorpe</td>\n",
       "    </tr>\n",
       "    <tr>\n",
       "      <th>2</th>\n",
       "      <td>4680</td>\n",
       "      <td>2004-12-31</td>\n",
       "      <td>Jeopardy!</td>\n",
       "      <td>EVERYBODY TALKS ABOUT IT...</td>\n",
       "      <td>$200</td>\n",
       "      <td>The city of Yuma in this state has a record av...</td>\n",
       "      <td>Arizona</td>\n",
       "    </tr>\n",
       "    <tr>\n",
       "      <th>3</th>\n",
       "      <td>4680</td>\n",
       "      <td>2004-12-31</td>\n",
       "      <td>Jeopardy!</td>\n",
       "      <td>THE COMPANY LINE</td>\n",
       "      <td>$200</td>\n",
       "      <td>In 1963, live on \"The Art Linkletter Show\", th...</td>\n",
       "      <td>McDonald's</td>\n",
       "    </tr>\n",
       "    <tr>\n",
       "      <th>4</th>\n",
       "      <td>4680</td>\n",
       "      <td>2004-12-31</td>\n",
       "      <td>Jeopardy!</td>\n",
       "      <td>EPITAPHS &amp; TRIBUTES</td>\n",
       "      <td>$200</td>\n",
       "      <td>Signer of the Dec. of Indep., framer of the Co...</td>\n",
       "      <td>John Adams</td>\n",
       "    </tr>\n",
       "  </tbody>\n",
       "</table>\n",
       "</div>"
      ],
      "text/plain": [
       "   Show Number    Air Date      Round                         Category  Value  \\\n",
       "0         4680  2004-12-31  Jeopardy!                          HISTORY   $200   \n",
       "1         4680  2004-12-31  Jeopardy!  ESPN's TOP 10 ALL-TIME ATHLETES   $200   \n",
       "2         4680  2004-12-31  Jeopardy!      EVERYBODY TALKS ABOUT IT...   $200   \n",
       "3         4680  2004-12-31  Jeopardy!                 THE COMPANY LINE   $200   \n",
       "4         4680  2004-12-31  Jeopardy!              EPITAPHS & TRIBUTES   $200   \n",
       "\n",
       "                                            Question      Answer  \n",
       "0  For the last 8 years of his life, Galileo was ...  Copernicus  \n",
       "1  No. 2: 1912 Olympian; football star at Carlisl...  Jim Thorpe  \n",
       "2  The city of Yuma in this state has a record av...     Arizona  \n",
       "3  In 1963, live on \"The Art Linkletter Show\", th...  McDonald's  \n",
       "4  Signer of the Dec. of Indep., framer of the Co...  John Adams  "
      ]
     },
     "execution_count": 71,
     "metadata": {},
     "output_type": "execute_result"
    }
   ],
   "source": [
    "#reading in data\n",
    "import pandas as pd\n",
    "jeopardy = pd.read_csv('jeopardy.csv')\n",
    "jeopardy.head()"
   ]
  },
  {
   "cell_type": "code",
   "execution_count": 72,
   "metadata": {},
   "outputs": [
    {
     "name": "stdout",
     "output_type": "stream",
     "text": [
      "<class 'pandas.core.frame.DataFrame'>\n",
      "RangeIndex: 216930 entries, 0 to 216929\n",
      "Data columns (total 7 columns):\n",
      " #   Column       Non-Null Count   Dtype \n",
      "---  ------       --------------   ----- \n",
      " 0   Show Number  216930 non-null  int64 \n",
      " 1    Air Date    216930 non-null  object\n",
      " 2    Round       216930 non-null  object\n",
      " 3    Category    216930 non-null  object\n",
      " 4    Value       216930 non-null  object\n",
      " 5    Question    216930 non-null  object\n",
      " 6    Answer      216928 non-null  object\n",
      "dtypes: int64(1), object(6)\n",
      "memory usage: 11.6+ MB\n"
     ]
    }
   ],
   "source": [
    "jeopardy.info()"
   ]
  },
  {
   "cell_type": "markdown",
   "metadata": {},
   "source": [
    "Here we have 216930 rows and 7 columns. \n",
    "\n",
    "6 out of 7 column names has leading space which has to be removed. \n",
    "\n",
    "Some of the columns has wrong data types. In the next steps we will change 'Air date' dtype to datetime for easier sorting by date, and 'Value' has to be changed to float data type to be able to perform numerical operations."
   ]
  },
  {
   "cell_type": "markdown",
   "metadata": {},
   "source": [
    "# 1. Cleaning data"
   ]
  },
  {
   "cell_type": "code",
   "execution_count": 73,
   "metadata": {},
   "outputs": [
    {
     "data": {
      "text/plain": [
       "Index(['Show Number', 'Air Date', 'Round', 'Category', 'Value', 'Question',\n",
       "       'Answer'],\n",
       "      dtype='object')"
      ]
     },
     "execution_count": 73,
     "metadata": {},
     "output_type": "execute_result"
    }
   ],
   "source": [
    "#delete leading spaces in the column names\n",
    "jeopardy_columns = jeopardy.copy()\n",
    "for i, name in enumerate(jeopardy_columns.columns): \n",
    "    jeopardy_columns.columns.values[i] = name.lstrip()\n",
    "        \n",
    "jeopardy_columns.columns"
   ]
  },
  {
   "cell_type": "code",
   "execution_count": 74,
   "metadata": {},
   "outputs": [
    {
     "data": {
      "text/plain": [
       "Show Number             int64\n",
       "Air Date       datetime64[ns]\n",
       "Round                  object\n",
       "Category               object\n",
       "Value                  object\n",
       "Question               object\n",
       "Answer                 object\n",
       "dtype: object"
      ]
     },
     "execution_count": 74,
     "metadata": {},
     "output_type": "execute_result"
    }
   ],
   "source": [
    "#change dtype in 'Air Date' column\n",
    "jeopardy_date = jeopardy_columns.copy()\n",
    "jeopardy_date.iloc[:,1] = pd.to_datetime(jeopardy_date.iloc[:,1])\n",
    "jeopardy_date.dtypes"
   ]
  },
  {
   "cell_type": "code",
   "execution_count": 75,
   "metadata": {},
   "outputs": [
    {
     "data": {
      "text/plain": [
       "$400      42244\n",
       "$800      31860\n",
       "$200      30455\n",
       "$600      20377\n",
       "$1000     19539\n",
       "$1200     11331\n",
       "$2000     11243\n",
       "$1600     10801\n",
       "$100       9029\n",
       "$500       9016\n",
       "$300       8663\n",
       "None       3634\n",
       "$1,000     2101\n",
       "$2,000     1586\n",
       "$3,000      769\n",
       "$1,500      546\n",
       "$1,200      441\n",
       "$4,000      349\n",
       "$1,600      239\n",
       "$2,500      232\n",
       "Name: Value, dtype: int64"
      ]
     },
     "execution_count": 75,
     "metadata": {},
     "output_type": "execute_result"
    }
   ],
   "source": [
    "#Check value column to see what values we might find\n",
    "jeopardy_columns.iloc[:,4].value_counts()[:20]"
   ]
  },
  {
   "cell_type": "markdown",
   "metadata": {},
   "source": [
    "In order to convert 'Value' column data type to float, dollar sign has to be removed, as well as commas.\n",
    "There is also 3634 'None' values. Lets look further into these rows."
   ]
  },
  {
   "cell_type": "code",
   "execution_count": 76,
   "metadata": {},
   "outputs": [
    {
     "data": {
      "text/html": [
       "<div>\n",
       "<style scoped>\n",
       "    .dataframe tbody tr th:only-of-type {\n",
       "        vertical-align: middle;\n",
       "    }\n",
       "\n",
       "    .dataframe tbody tr th {\n",
       "        vertical-align: top;\n",
       "    }\n",
       "\n",
       "    .dataframe thead th {\n",
       "        text-align: right;\n",
       "    }\n",
       "</style>\n",
       "<table border=\"1\" class=\"dataframe\">\n",
       "  <thead>\n",
       "    <tr style=\"text-align: right;\">\n",
       "      <th></th>\n",
       "      <th>Show Number</th>\n",
       "      <th>Air Date</th>\n",
       "      <th>Round</th>\n",
       "      <th>Category</th>\n",
       "      <th>Value</th>\n",
       "      <th>Question</th>\n",
       "      <th>Answer</th>\n",
       "    </tr>\n",
       "  </thead>\n",
       "  <tbody>\n",
       "    <tr>\n",
       "      <th>55</th>\n",
       "      <td>4680</td>\n",
       "      <td>2004-12-31</td>\n",
       "      <td>Final Jeopardy!</td>\n",
       "      <td>THE SOLAR SYSTEM</td>\n",
       "      <td>None</td>\n",
       "      <td>Objects that pass closer to the sun than Mercu...</td>\n",
       "      <td>Icarus</td>\n",
       "    </tr>\n",
       "    <tr>\n",
       "      <th>116</th>\n",
       "      <td>5957</td>\n",
       "      <td>2010-07-06</td>\n",
       "      <td>Final Jeopardy!</td>\n",
       "      <td>HISTORIC WOMEN</td>\n",
       "      <td>None</td>\n",
       "      <td>She was born in Virginia around 1596 &amp; died in...</td>\n",
       "      <td>Pocahontas</td>\n",
       "    </tr>\n",
       "    <tr>\n",
       "      <th>174</th>\n",
       "      <td>3751</td>\n",
       "      <td>2000-12-18</td>\n",
       "      <td>Final Jeopardy!</td>\n",
       "      <td>SPORTS LEGENDS</td>\n",
       "      <td>None</td>\n",
       "      <td>If Joe DiMaggio's hitting streak had gone one ...</td>\n",
       "      <td>H.J. Heinz (Heinz 57 Varieties)</td>\n",
       "    </tr>\n",
       "    <tr>\n",
       "      <th>235</th>\n",
       "      <td>3673</td>\n",
       "      <td>2000-07-19</td>\n",
       "      <td>Final Jeopardy!</td>\n",
       "      <td>THE MAP OF EUROPE</td>\n",
       "      <td>None</td>\n",
       "      <td>Bordering Italy, Austria, Hungary &amp; Croatia, i...</td>\n",
       "      <td>Slovenia</td>\n",
       "    </tr>\n",
       "    <tr>\n",
       "      <th>296</th>\n",
       "      <td>4931</td>\n",
       "      <td>2006-02-06</td>\n",
       "      <td>Final Jeopardy!</td>\n",
       "      <td>FAMOUS SHIPS</td>\n",
       "      <td>None</td>\n",
       "      <td>On December 27, 1831 it departed Plymouth, Eng...</td>\n",
       "      <td>the HMS Beagle</td>\n",
       "    </tr>\n",
       "    <tr>\n",
       "      <th>357</th>\n",
       "      <td>5690</td>\n",
       "      <td>2009-05-08</td>\n",
       "      <td>Final Jeopardy!</td>\n",
       "      <td>EUROPEAN HISTORY</td>\n",
       "      <td>None</td>\n",
       "      <td>He filed for divorce citing Leviticus 20:21, \"...</td>\n",
       "      <td>Henry VIII</td>\n",
       "    </tr>\n",
       "    <tr>\n",
       "      <th>418</th>\n",
       "      <td>2825</td>\n",
       "      <td>1996-12-06</td>\n",
       "      <td>Final Jeopardy!</td>\n",
       "      <td>BRITISH NOVELS</td>\n",
       "      <td>None</td>\n",
       "      <td>This 1895 novel is subtitled \"An Invention\"</td>\n",
       "      <td>The Time Machine</td>\n",
       "    </tr>\n",
       "    <tr>\n",
       "      <th>474</th>\n",
       "      <td>6037</td>\n",
       "      <td>2010-12-07</td>\n",
       "      <td>Final Jeopardy!</td>\n",
       "      <td>FLAGS OF THE WORLD</td>\n",
       "      <td>None</td>\n",
       "      <td>In use from 1844 to 1905, a flag representing ...</td>\n",
       "      <td>Norway and Sweden</td>\n",
       "    </tr>\n",
       "    <tr>\n",
       "      <th>535</th>\n",
       "      <td>5243</td>\n",
       "      <td>2007-05-30</td>\n",
       "      <td>Final Jeopardy!</td>\n",
       "      <td>THE BRITISH THEATRE</td>\n",
       "      <td>None</td>\n",
       "      <td>Richard Attenborough, who was in the original ...</td>\n",
       "      <td>The Mousetrap</td>\n",
       "    </tr>\n",
       "    <tr>\n",
       "      <th>594</th>\n",
       "      <td>3036</td>\n",
       "      <td>1997-11-10</td>\n",
       "      <td>Final Jeopardy!</td>\n",
       "      <td>THE CONSTITUTION</td>\n",
       "      <td>None</td>\n",
       "      <td>Word completing the line \"Nor shall any person...</td>\n",
       "      <td>Jeopardy</td>\n",
       "    </tr>\n",
       "  </tbody>\n",
       "</table>\n",
       "</div>"
      ],
      "text/plain": [
       "     Show Number    Air Date            Round             Category Value  \\\n",
       "55          4680  2004-12-31  Final Jeopardy!     THE SOLAR SYSTEM  None   \n",
       "116         5957  2010-07-06  Final Jeopardy!       HISTORIC WOMEN  None   \n",
       "174         3751  2000-12-18  Final Jeopardy!       SPORTS LEGENDS  None   \n",
       "235         3673  2000-07-19  Final Jeopardy!    THE MAP OF EUROPE  None   \n",
       "296         4931  2006-02-06  Final Jeopardy!         FAMOUS SHIPS  None   \n",
       "357         5690  2009-05-08  Final Jeopardy!     EUROPEAN HISTORY  None   \n",
       "418         2825  1996-12-06  Final Jeopardy!       BRITISH NOVELS  None   \n",
       "474         6037  2010-12-07  Final Jeopardy!   FLAGS OF THE WORLD  None   \n",
       "535         5243  2007-05-30  Final Jeopardy!  THE BRITISH THEATRE  None   \n",
       "594         3036  1997-11-10  Final Jeopardy!     THE CONSTITUTION  None   \n",
       "\n",
       "                                              Question  \\\n",
       "55   Objects that pass closer to the sun than Mercu...   \n",
       "116  She was born in Virginia around 1596 & died in...   \n",
       "174  If Joe DiMaggio's hitting streak had gone one ...   \n",
       "235  Bordering Italy, Austria, Hungary & Croatia, i...   \n",
       "296  On December 27, 1831 it departed Plymouth, Eng...   \n",
       "357  He filed for divorce citing Leviticus 20:21, \"...   \n",
       "418        This 1895 novel is subtitled \"An Invention\"   \n",
       "474  In use from 1844 to 1905, a flag representing ...   \n",
       "535  Richard Attenborough, who was in the original ...   \n",
       "594  Word completing the line \"Nor shall any person...   \n",
       "\n",
       "                              Answer  \n",
       "55                            Icarus  \n",
       "116                       Pocahontas  \n",
       "174  H.J. Heinz (Heinz 57 Varieties)  \n",
       "235                         Slovenia  \n",
       "296                   the HMS Beagle  \n",
       "357                       Henry VIII  \n",
       "418                 The Time Machine  \n",
       "474                Norway and Sweden  \n",
       "535                    The Mousetrap  \n",
       "594                         Jeopardy  "
      ]
     },
     "execution_count": 76,
     "metadata": {},
     "output_type": "execute_result"
    }
   ],
   "source": [
    "jeopardy_columns[jeopardy_columns.iloc[:,4]=='None'][:10]"
   ]
  },
  {
   "cell_type": "markdown",
   "metadata": {},
   "source": [
    "These 'None' values appear in Final Jeopardy! or Tiebraker rounds. During these rounds players can pick their wager freely so no winning amount is set. Even though these questions are considered as difficult, or high value, we can not set any amount to their value because it might bias the results of the analysis. Instead they will be replaced with 'nan' values. "
   ]
  },
  {
   "cell_type": "code",
   "execution_count": 77,
   "metadata": {},
   "outputs": [
    {
     "data": {
      "text/html": [
       "<div>\n",
       "<style scoped>\n",
       "    .dataframe tbody tr th:only-of-type {\n",
       "        vertical-align: middle;\n",
       "    }\n",
       "\n",
       "    .dataframe tbody tr th {\n",
       "        vertical-align: top;\n",
       "    }\n",
       "\n",
       "    .dataframe thead th {\n",
       "        text-align: right;\n",
       "    }\n",
       "</style>\n",
       "<table border=\"1\" class=\"dataframe\">\n",
       "  <thead>\n",
       "    <tr style=\"text-align: right;\">\n",
       "      <th></th>\n",
       "      <th>Show Number</th>\n",
       "      <th>Air Date</th>\n",
       "      <th>Round</th>\n",
       "      <th>Category</th>\n",
       "      <th>Value</th>\n",
       "      <th>Question</th>\n",
       "      <th>Answer</th>\n",
       "    </tr>\n",
       "  </thead>\n",
       "  <tbody>\n",
       "    <tr>\n",
       "      <th>0</th>\n",
       "      <td>4680</td>\n",
       "      <td>2004-12-31</td>\n",
       "      <td>Jeopardy!</td>\n",
       "      <td>HISTORY</td>\n",
       "      <td>200.0</td>\n",
       "      <td>For the last 8 years of his life, Galileo was ...</td>\n",
       "      <td>Copernicus</td>\n",
       "    </tr>\n",
       "    <tr>\n",
       "      <th>1</th>\n",
       "      <td>4680</td>\n",
       "      <td>2004-12-31</td>\n",
       "      <td>Jeopardy!</td>\n",
       "      <td>ESPN's TOP 10 ALL-TIME ATHLETES</td>\n",
       "      <td>200.0</td>\n",
       "      <td>No. 2: 1912 Olympian; football star at Carlisl...</td>\n",
       "      <td>Jim Thorpe</td>\n",
       "    </tr>\n",
       "    <tr>\n",
       "      <th>2</th>\n",
       "      <td>4680</td>\n",
       "      <td>2004-12-31</td>\n",
       "      <td>Jeopardy!</td>\n",
       "      <td>EVERYBODY TALKS ABOUT IT...</td>\n",
       "      <td>200.0</td>\n",
       "      <td>The city of Yuma in this state has a record av...</td>\n",
       "      <td>Arizona</td>\n",
       "    </tr>\n",
       "    <tr>\n",
       "      <th>3</th>\n",
       "      <td>4680</td>\n",
       "      <td>2004-12-31</td>\n",
       "      <td>Jeopardy!</td>\n",
       "      <td>THE COMPANY LINE</td>\n",
       "      <td>200.0</td>\n",
       "      <td>In 1963, live on \"The Art Linkletter Show\", th...</td>\n",
       "      <td>McDonald's</td>\n",
       "    </tr>\n",
       "    <tr>\n",
       "      <th>4</th>\n",
       "      <td>4680</td>\n",
       "      <td>2004-12-31</td>\n",
       "      <td>Jeopardy!</td>\n",
       "      <td>EPITAPHS &amp; TRIBUTES</td>\n",
       "      <td>200.0</td>\n",
       "      <td>Signer of the Dec. of Indep., framer of the Co...</td>\n",
       "      <td>John Adams</td>\n",
       "    </tr>\n",
       "  </tbody>\n",
       "</table>\n",
       "</div>"
      ],
      "text/plain": [
       "   Show Number   Air Date      Round                         Category  Value  \\\n",
       "0         4680 2004-12-31  Jeopardy!                          HISTORY  200.0   \n",
       "1         4680 2004-12-31  Jeopardy!  ESPN's TOP 10 ALL-TIME ATHLETES  200.0   \n",
       "2         4680 2004-12-31  Jeopardy!      EVERYBODY TALKS ABOUT IT...  200.0   \n",
       "3         4680 2004-12-31  Jeopardy!                 THE COMPANY LINE  200.0   \n",
       "4         4680 2004-12-31  Jeopardy!              EPITAPHS & TRIBUTES  200.0   \n",
       "\n",
       "                                            Question      Answer  \n",
       "0  For the last 8 years of his life, Galileo was ...  Copernicus  \n",
       "1  No. 2: 1912 Olympian; football star at Carlisl...  Jim Thorpe  \n",
       "2  The city of Yuma in this state has a record av...     Arizona  \n",
       "3  In 1963, live on \"The Art Linkletter Show\", th...  McDonald's  \n",
       "4  Signer of the Dec. of Indep., framer of the Co...  John Adams  "
      ]
     },
     "execution_count": 77,
     "metadata": {},
     "output_type": "execute_result"
    }
   ],
   "source": [
    "#remove dollar sign in 'Value' column and convert to numeric. 3634 rows has 'None' value.\n",
    "jeopardy_value = jeopardy_date.copy()\n",
    "jeopardy_value.iloc[:,4] = jeopardy_value.iloc[:,4].apply(lambda x: x.replace('$','')).apply(lambda x: x.replace(',',''))\n",
    "jeopardy_value.iloc[:,4] = pd.to_numeric(jeopardy_value.iloc[:,4], errors = 'coerce') #3643 rows has 'nan' value\n",
    "jeopardy_value.head()"
   ]
  },
  {
   "cell_type": "markdown",
   "metadata": {},
   "source": [
    "The data types are correct now, lets move on to question and answer columns. To work with these values, they have to be cleaned, letters changed to lowercase and all punctuation removed."
   ]
  },
  {
   "cell_type": "code",
   "execution_count": 78,
   "metadata": {},
   "outputs": [
    {
     "data": {
      "text/html": [
       "<div>\n",
       "<style scoped>\n",
       "    .dataframe tbody tr th:only-of-type {\n",
       "        vertical-align: middle;\n",
       "    }\n",
       "\n",
       "    .dataframe tbody tr th {\n",
       "        vertical-align: top;\n",
       "    }\n",
       "\n",
       "    .dataframe thead th {\n",
       "        text-align: right;\n",
       "    }\n",
       "</style>\n",
       "<table border=\"1\" class=\"dataframe\">\n",
       "  <thead>\n",
       "    <tr style=\"text-align: right;\">\n",
       "      <th></th>\n",
       "      <th>Show Number</th>\n",
       "      <th>Air Date</th>\n",
       "      <th>Round</th>\n",
       "      <th>Category</th>\n",
       "      <th>Value</th>\n",
       "      <th>Question</th>\n",
       "      <th>Answer</th>\n",
       "      <th>clean_question</th>\n",
       "      <th>clean_answer</th>\n",
       "    </tr>\n",
       "  </thead>\n",
       "  <tbody>\n",
       "    <tr>\n",
       "      <th>0</th>\n",
       "      <td>4680</td>\n",
       "      <td>2004-12-31</td>\n",
       "      <td>Jeopardy!</td>\n",
       "      <td>HISTORY</td>\n",
       "      <td>200.0</td>\n",
       "      <td>For the last 8 years of his life, Galileo was ...</td>\n",
       "      <td>Copernicus</td>\n",
       "      <td>for the last 8 years of his life  galileo was ...</td>\n",
       "      <td>copernicus</td>\n",
       "    </tr>\n",
       "    <tr>\n",
       "      <th>1</th>\n",
       "      <td>4680</td>\n",
       "      <td>2004-12-31</td>\n",
       "      <td>Jeopardy!</td>\n",
       "      <td>ESPN's TOP 10 ALL-TIME ATHLETES</td>\n",
       "      <td>200.0</td>\n",
       "      <td>No. 2: 1912 Olympian; football star at Carlisl...</td>\n",
       "      <td>Jim Thorpe</td>\n",
       "      <td>no  2  1912 olympian  football star at carlisl...</td>\n",
       "      <td>jim thorpe</td>\n",
       "    </tr>\n",
       "    <tr>\n",
       "      <th>2</th>\n",
       "      <td>4680</td>\n",
       "      <td>2004-12-31</td>\n",
       "      <td>Jeopardy!</td>\n",
       "      <td>EVERYBODY TALKS ABOUT IT...</td>\n",
       "      <td>200.0</td>\n",
       "      <td>The city of Yuma in this state has a record av...</td>\n",
       "      <td>Arizona</td>\n",
       "      <td>the city of yuma in this state has a record av...</td>\n",
       "      <td>arizona</td>\n",
       "    </tr>\n",
       "    <tr>\n",
       "      <th>3</th>\n",
       "      <td>4680</td>\n",
       "      <td>2004-12-31</td>\n",
       "      <td>Jeopardy!</td>\n",
       "      <td>THE COMPANY LINE</td>\n",
       "      <td>200.0</td>\n",
       "      <td>In 1963, live on \"The Art Linkletter Show\", th...</td>\n",
       "      <td>McDonald's</td>\n",
       "      <td>in 1963  live on  the art linkletter show   th...</td>\n",
       "      <td>mcdonald s</td>\n",
       "    </tr>\n",
       "    <tr>\n",
       "      <th>4</th>\n",
       "      <td>4680</td>\n",
       "      <td>2004-12-31</td>\n",
       "      <td>Jeopardy!</td>\n",
       "      <td>EPITAPHS &amp; TRIBUTES</td>\n",
       "      <td>200.0</td>\n",
       "      <td>Signer of the Dec. of Indep., framer of the Co...</td>\n",
       "      <td>John Adams</td>\n",
       "      <td>signer of the dec  of indep   framer of the co...</td>\n",
       "      <td>john adams</td>\n",
       "    </tr>\n",
       "  </tbody>\n",
       "</table>\n",
       "</div>"
      ],
      "text/plain": [
       "   Show Number   Air Date      Round                         Category  Value  \\\n",
       "0         4680 2004-12-31  Jeopardy!                          HISTORY  200.0   \n",
       "1         4680 2004-12-31  Jeopardy!  ESPN's TOP 10 ALL-TIME ATHLETES  200.0   \n",
       "2         4680 2004-12-31  Jeopardy!      EVERYBODY TALKS ABOUT IT...  200.0   \n",
       "3         4680 2004-12-31  Jeopardy!                 THE COMPANY LINE  200.0   \n",
       "4         4680 2004-12-31  Jeopardy!              EPITAPHS & TRIBUTES  200.0   \n",
       "\n",
       "                                            Question      Answer  \\\n",
       "0  For the last 8 years of his life, Galileo was ...  Copernicus   \n",
       "1  No. 2: 1912 Olympian; football star at Carlisl...  Jim Thorpe   \n",
       "2  The city of Yuma in this state has a record av...     Arizona   \n",
       "3  In 1963, live on \"The Art Linkletter Show\", th...  McDonald's   \n",
       "4  Signer of the Dec. of Indep., framer of the Co...  John Adams   \n",
       "\n",
       "                                      clean_question clean_answer  \n",
       "0  for the last 8 years of his life  galileo was ...   copernicus  \n",
       "1  no  2  1912 olympian  football star at carlisl...   jim thorpe  \n",
       "2  the city of yuma in this state has a record av...      arizona  \n",
       "3  in 1963  live on  the art linkletter show   th...   mcdonald s  \n",
       "4  signer of the dec  of indep   framer of the co...   john adams  "
      ]
     },
     "execution_count": 78,
     "metadata": {},
     "output_type": "execute_result"
    }
   ],
   "source": [
    "#normalize 'Question' and 'Answer' columns, remove punctuation and convert to lowercase\n",
    "jeopardy_normalize = jeopardy_value.copy()\n",
    "\n",
    "import re\n",
    "jeopardy_normalize['clean_question'] = jeopardy_normalize.iloc[:,5].apply(lambda x: x.lower()).apply(lambda x: re.sub(r'\\W', ' ', x))\n",
    "jeopardy_normalize['clean_answer'] = jeopardy_normalize.iloc[:,6].apply(lambda x: str(x).lower()).apply(lambda x: re.sub(r'\\W', ' ', x))\n",
    "\n",
    "jeopardy_normalize.head()"
   ]
  },
  {
   "cell_type": "markdown",
   "metadata": {},
   "source": [
    "# 2. Analysis"
   ]
  },
  {
   "cell_type": "markdown",
   "metadata": {},
   "source": [
    "Purpose of this analysis is to get insights into what might increase our chances to win the game.\n",
    "\n",
    "Try to answer these questions:\n",
    "\n",
    "-How often answers are found in the questions? \n",
    "\n",
    "-Are there any relationship patterns between Round and Category values?\n",
    "\n",
    "-Is it worth studying most common terms used in the questions?"
   ]
  },
  {
   "cell_type": "code",
   "execution_count": 79,
   "metadata": {},
   "outputs": [
    {
     "data": {
      "text/plain": [
       "0.04935285413188554"
      ]
     },
     "execution_count": 79,
     "metadata": {},
     "output_type": "execute_result"
    }
   ],
   "source": [
    "#create a function to find if Question and Answer has matching words\n",
    "jeopardy_match = jeopardy_normalize.copy()\n",
    "\n",
    "def match(row): #'row' - full row from dataframe \n",
    "    split_answer = row['clean_answer'].split()\n",
    "    split_question = row['clean_question'].split()\n",
    "    \n",
    "    match_count = 0\n",
    "    if 'the' in split_answer:\n",
    "        split_answer = split_answer.remove('the') #remove 'the' because it has no real value to the results\n",
    "    if split_answer is None or len(split_answer) == 0: return 0 #if split_answer is empty list, set result to 0 to avoid error in division by 0 later\n",
    "    else: \n",
    "        for word in split_answer:\n",
    "            if word in split_question: match_count += 1\n",
    "    return match_count/len(split_answer)\n",
    "\n",
    "jeopardy_match['answer_in_question'] = jeopardy_match.apply(lambda x: match(x), axis=1)\n",
    "jeopardy_match['answer_in_question'].mean()"
   ]
  },
  {
   "cell_type": "markdown",
   "metadata": {},
   "source": [
    "An answer stated in question appears to be in almost 5% of the questions.\n",
    "\n",
    "Lets move on to another question - Are there any relationship patterns between Round and Category values?"
   ]
  },
  {
   "cell_type": "code",
   "execution_count": 80,
   "metadata": {},
   "outputs": [
    {
     "data": {
      "text/plain": [
       "Jeopardy!           107384\n",
       "Double Jeopardy!    105912\n",
       "Final Jeopardy!       3631\n",
       "Tiebreaker               3\n",
       "Name: Round, dtype: int64"
      ]
     },
     "execution_count": 80,
     "metadata": {},
     "output_type": "execute_result"
    }
   ],
   "source": [
    "#see the Round column values and their fequencies\n",
    "jeopardy_match['Round'].value_counts()"
   ]
  },
  {
   "cell_type": "markdown",
   "metadata": {},
   "source": [
    "Majority of questions falls into Jeopardy! and Double Jeopardy! rounds.\n",
    "Lets see Category column."
   ]
  },
  {
   "cell_type": "code",
   "execution_count": 178,
   "metadata": {},
   "outputs": [
    {
     "name": "stdout",
     "output_type": "stream",
     "text": [
      "Total categories:  27995\n"
     ]
    },
    {
     "data": {
      "text/plain": [
       "BEFORE & AFTER             547\n",
       "SCIENCE                    519\n",
       "LITERATURE                 496\n",
       "AMERICAN HISTORY           418\n",
       "POTPOURRI                  401\n",
       "WORLD HISTORY              377\n",
       "WORD ORIGINS               371\n",
       "COLLEGES & UNIVERSITIES    351\n",
       "HISTORY                    349\n",
       "SPORTS                     342\n",
       "Name: Category, dtype: int64"
      ]
     },
     "execution_count": 178,
     "metadata": {},
     "output_type": "execute_result"
    }
   ],
   "source": [
    "#top 10 question categories\n",
    "print('Total categories: ',len(jeopardy_match['Category'].unique()))\n",
    "jeopardy_match['Category'].value_counts()[:10]"
   ]
  },
  {
   "cell_type": "code",
   "execution_count": 179,
   "metadata": {},
   "outputs": [],
   "source": [
    "#group by 'Round' and see if there is any obvious patterns in Category column\n",
    "jeopardy_group_round = jeopardy_match[['Round','Category']].groupby(by='Round')['Category'].value_counts()\n",
    "dbl_jeo = jeopardy_group_round.loc['Double Jeopardy!'][:10]\n",
    "jeo = jeopardy_group_round.loc['Jeopardy!'][:10]\n",
    "final_jeo = jeopardy_group_round.loc['Final Jeopardy!'][:10]"
   ]
  },
  {
   "cell_type": "code",
   "execution_count": 176,
   "metadata": {},
   "outputs": [
    {
     "data": {
      "image/png": "[encoded data removed]",
      "text/plain": [
       "<Figure size 1332x540 with 3 Axes>"
      ]
     },
     "metadata": {},
     "output_type": "display_data"
    }
   ],
   "source": [
    "#plot the results\n",
    "import matplotlib.pyplot as plt\n",
    "plt.style.use('fivethirtyeight')\n",
    "fig, axes = plt.subplots(1,3)\n",
    "fig.set_size_inches(18.5, 7.5)\n",
    "colors = ['y','y','y','g','g','g','g','g','g','g']\n",
    "jeo.plot(kind='bar', title='Jeopardy!', ax=axes[0], color = colors)\n",
    "dbl_jeo.plot(kind='bar', title='Double Jeopardy!', ax=axes[1], color = colors)\n",
    "final_jeo.plot(kind='bar', title='Final Jeopardy!', ax=axes[2], color = colors)\n",
    "\n",
    "plt.show()"
   ]
  },
  {
   "cell_type": "markdown",
   "metadata": {},
   "source": [
    "Every round has three categories that appear most often. Having knowledge in these categories could increase chances to win the game."
   ]
  },
  {
   "cell_type": "markdown",
   "metadata": {},
   "source": [
    " "
   ]
  },
  {
   "cell_type": "markdown",
   "metadata": {},
   "source": [
    "Are there any particular terms that are related with high-value questions? Are these terms occur in high-value questions by chance or there is some pattern? Answering these questions could help to figure out whether it is worth to study subjects related with most common terms that occurs in high-value questions in order to increase the chances to win the game.\n",
    "\n",
    "Pearson's chi-square test might help to figure out whether the terms fall into high-value or low-value by chance or there is a statistical significance. \n",
    "\n",
    "To perform chi-square test it is neccessary to define hypotheses and p-value threshold.\n",
    "\n",
    "Hypothesis(null) - all terms in all questions appear equaly likely.\n",
    "\n",
    "Hypothesis(alternative) - reject null hypothesis(terms in high- and low-value questions appear not equaly likely)\n",
    "\n",
    "P-value threshold - 5%"
   ]
  },
  {
   "cell_type": "code",
   "execution_count": 181,
   "metadata": {},
   "outputs": [
    {
     "data": {
      "text/plain": [
       "0                       [galileo, espousing]\n",
       "1    [olympian, football, carlisle, seasons]\n",
       "2                        [average, sunshine]\n",
       "3           [linkletter, company, billionth]\n",
       "4                  [constitution, president]\n",
       "Name: terms_used, dtype: object"
      ]
     },
     "execution_count": 181,
     "metadata": {},
     "output_type": "execute_result"
    }
   ],
   "source": [
    "#make a new column containing terms found in 'Questions' that are longer than 6 characters\n",
    "def terms(question):\n",
    "    split = question.split()\n",
    "    return [word for word in split if len(word)>6]\n",
    "    \n",
    "jeopardy_match['terms_used'] = jeopardy_match['clean_question'].apply(lambda x: terms(x))\n",
    "jeopardy_match['terms_used'].head()"
   ]
  },
  {
   "cell_type": "code",
   "execution_count": 85,
   "metadata": {},
   "outputs": [
    {
     "data": {
      "text/plain": [
       "['galileo', 'espousing', 'olympian', 'football', 'carlisle']"
      ]
     },
     "execution_count": 85,
     "metadata": {},
     "output_type": "execute_result"
    }
   ],
   "source": [
    "#create a list of all terms\n",
    "terms_used_list = []\n",
    "def terms_to_list(term):\n",
    "    return [terms_used_list.append(word) for word in term]\n",
    "jeopardy_match['terms_used'].apply(lambda x: terms_to_list(x))\n",
    "terms_used_list[:5]"
   ]
  },
  {
   "cell_type": "code",
   "execution_count": 86,
   "metadata": {},
   "outputs": [
    {
     "data": {
      "text/plain": [
       "archive      12979\n",
       "country       6045\n",
       "president     3294\n",
       "american      3210\n",
       "capital       2883\n",
       "largest       2150\n",
       "company       2133\n",
       "national      1988\n",
       "british       1976\n",
       "century       1922\n",
       "dtype: int64"
      ]
     },
     "execution_count": 86,
     "metadata": {},
     "output_type": "execute_result"
    }
   ],
   "source": [
    "#count occurancies of terms\n",
    "terms_count = pd.Series(terms_used_list).value_counts()\n",
    "\n",
    "#these are the top 10 terms used in questions\n",
    "terms_count[:10]"
   ]
  },
  {
   "cell_type": "code",
   "execution_count": 189,
   "metadata": {},
   "outputs": [
    {
     "data": {
      "text/plain": [
       "(archive      5949\n",
       " country      1668\n",
       " american     1067\n",
       " president     917\n",
       " capital       829\n",
       " dtype: int64,\n",
       " archive      6993\n",
       " country      4227\n",
       " president    2217\n",
       " american     2068\n",
       " capital      1992\n",
       " dtype: int64)"
      ]
     },
     "execution_count": 189,
     "metadata": {},
     "output_type": "execute_result"
    }
   ],
   "source": [
    "#find the terms popular among high-value and low-value questions (more than $800 and $800 or less)\n",
    "jeopardy_high_value = jeopardy_match[jeopardy_match['Value']>800]\n",
    "jeopardy_low_value = jeopardy_match[jeopardy_match['Value']<=800]\n",
    "\n",
    "terms_high_value_list = []\n",
    "terms_low_value_list = []\n",
    "\n",
    "def terms_by_value(term, high_or_low):\n",
    "    if high_or_low == 'high':\n",
    "        return [terms_high_value_list.append(word) for word in term]\n",
    "    if high_or_low == 'low':\n",
    "        return [terms_low_value_list.append(word) for word in term]\n",
    "jeopardy_high_value['terms_used'].apply(lambda x: terms_by_value(x, 'high'))\n",
    "jeopardy_low_value['terms_used'].apply(lambda x: terms_by_value(x, 'low'))\n",
    "\n",
    "high_value_term_counts = pd.Series(terms_high_value_list).value_counts()\n",
    "low_value_term_counts = pd.Series(terms_low_value_list).value_counts()\n",
    "high_value_term_counts[:5], low_value_term_counts[:5]"
   ]
  },
  {
   "cell_type": "code",
   "execution_count": 88,
   "metadata": {},
   "outputs": [
    {
     "data": {
      "text/html": [
       "<div>\n",
       "<style scoped>\n",
       "    .dataframe tbody tr th:only-of-type {\n",
       "        vertical-align: middle;\n",
       "    }\n",
       "\n",
       "    .dataframe tbody tr th {\n",
       "        vertical-align: top;\n",
       "    }\n",
       "\n",
       "    .dataframe thead th {\n",
       "        text-align: right;\n",
       "    }\n",
       "</style>\n",
       "<table border=\"1\" class=\"dataframe\">\n",
       "  <thead>\n",
       "    <tr style=\"text-align: right;\">\n",
       "      <th></th>\n",
       "      <th>high</th>\n",
       "      <th>low</th>\n",
       "    </tr>\n",
       "  </thead>\n",
       "  <tbody>\n",
       "    <tr>\n",
       "      <th>falsely</th>\n",
       "      <td>5</td>\n",
       "      <td>10</td>\n",
       "    </tr>\n",
       "    <tr>\n",
       "      <th>vertical</th>\n",
       "      <td>29</td>\n",
       "      <td>29</td>\n",
       "    </tr>\n",
       "    <tr>\n",
       "      <th>stetson</th>\n",
       "      <td>1</td>\n",
       "      <td>4</td>\n",
       "    </tr>\n",
       "    <tr>\n",
       "      <th>colorado</th>\n",
       "      <td>55</td>\n",
       "      <td>182</td>\n",
       "    </tr>\n",
       "    <tr>\n",
       "      <th>nuclear</th>\n",
       "      <td>80</td>\n",
       "      <td>141</td>\n",
       "    </tr>\n",
       "    <tr>\n",
       "      <th>booming</th>\n",
       "      <td>4</td>\n",
       "      <td>7</td>\n",
       "    </tr>\n",
       "    <tr>\n",
       "      <th>silicon</th>\n",
       "      <td>11</td>\n",
       "      <td>9</td>\n",
       "    </tr>\n",
       "    <tr>\n",
       "      <th>movement</th>\n",
       "      <td>146</td>\n",
       "      <td>235</td>\n",
       "    </tr>\n",
       "    <tr>\n",
       "      <th>trilogy</th>\n",
       "      <td>45</td>\n",
       "      <td>72</td>\n",
       "    </tr>\n",
       "    <tr>\n",
       "      <th>baritone</th>\n",
       "      <td>2</td>\n",
       "      <td>8</td>\n",
       "    </tr>\n",
       "  </tbody>\n",
       "</table>\n",
       "</div>"
      ],
      "text/plain": [
       "          high  low\n",
       "falsely      5   10\n",
       "vertical    29   29\n",
       "stetson      1    4\n",
       "colorado    55  182\n",
       "nuclear     80  141\n",
       "booming      4    7\n",
       "silicon     11    9\n",
       "movement   146  235\n",
       "trilogy     45   72\n",
       "baritone     2    8"
      ]
     },
     "execution_count": 88,
     "metadata": {},
     "output_type": "execute_result"
    }
   ],
   "source": [
    "#pick 10 terms randomly and find their values in high_value_term_counts and low_value_term_counts\n",
    "\n",
    "#pick 10 terms randomly\n",
    "import numpy as np\n",
    "np.random.seed(5)\n",
    "terms_array = np.array(terms_used_list)\n",
    "comparison_terms = np.random.choice(terms_array, 10, replace=False)\n",
    "\n",
    "#find their values in high_value_term_counts and low_value_term_counts\n",
    "comparison_values_high = high_value_term_counts[comparison_terms]\n",
    "comparison_values_low = low_value_term_counts[comparison_terms]\n",
    "\n",
    "observed_expected = pd.concat([comparison_values_high, comparison_values_low], axis=1)\n",
    "observed_expected.columns = ['high','low']\n",
    "observed_expected"
   ]
  },
  {
   "cell_type": "code",
   "execution_count": 190,
   "metadata": {},
   "outputs": [
    {
     "data": {
      "text/plain": [
       "213296"
      ]
     },
     "execution_count": 190,
     "metadata": {},
     "output_type": "execute_result"
    }
   ],
   "source": [
    "#find total number of rows for high value and low value terms\n",
    "high_value_row_count = len(jeopardy_high_value)\n",
    "low_value_row_count = len(jeopardy_low_value)\n",
    "total_rows = low_value_row_count + high_value_row_count \n",
    "total_rows"
   ]
  },
  {
   "cell_type": "code",
   "execution_count": 90,
   "metadata": {},
   "outputs": [
    {
     "data": {
      "text/html": [
       "<div>\n",
       "<style scoped>\n",
       "    .dataframe tbody tr th:only-of-type {\n",
       "        vertical-align: middle;\n",
       "    }\n",
       "\n",
       "    .dataframe tbody tr th {\n",
       "        vertical-align: top;\n",
       "    }\n",
       "\n",
       "    .dataframe thead th {\n",
       "        text-align: right;\n",
       "    }\n",
       "</style>\n",
       "<table border=\"1\" class=\"dataframe\">\n",
       "  <thead>\n",
       "    <tr style=\"text-align: right;\">\n",
       "      <th></th>\n",
       "      <th>high</th>\n",
       "      <th>low</th>\n",
       "      <th>total</th>\n",
       "      <th>proportion</th>\n",
       "      <th>expected_high</th>\n",
       "      <th>expected_low</th>\n",
       "    </tr>\n",
       "  </thead>\n",
       "  <tbody>\n",
       "    <tr>\n",
       "      <th>falsely</th>\n",
       "      <td>5</td>\n",
       "      <td>10</td>\n",
       "      <td>15</td>\n",
       "      <td>0.000070</td>\n",
       "      <td>4.319490</td>\n",
       "      <td>10.680510</td>\n",
       "    </tr>\n",
       "    <tr>\n",
       "      <th>vertical</th>\n",
       "      <td>29</td>\n",
       "      <td>29</td>\n",
       "      <td>58</td>\n",
       "      <td>0.000272</td>\n",
       "      <td>16.702029</td>\n",
       "      <td>41.297971</td>\n",
       "    </tr>\n",
       "    <tr>\n",
       "      <th>stetson</th>\n",
       "      <td>1</td>\n",
       "      <td>4</td>\n",
       "      <td>5</td>\n",
       "      <td>0.000023</td>\n",
       "      <td>1.439830</td>\n",
       "      <td>3.560170</td>\n",
       "    </tr>\n",
       "    <tr>\n",
       "      <th>colorado</th>\n",
       "      <td>55</td>\n",
       "      <td>182</td>\n",
       "      <td>237</td>\n",
       "      <td>0.001111</td>\n",
       "      <td>68.247947</td>\n",
       "      <td>168.752053</td>\n",
       "    </tr>\n",
       "    <tr>\n",
       "      <th>nuclear</th>\n",
       "      <td>80</td>\n",
       "      <td>141</td>\n",
       "      <td>221</td>\n",
       "      <td>0.001036</td>\n",
       "      <td>63.640490</td>\n",
       "      <td>157.359510</td>\n",
       "    </tr>\n",
       "    <tr>\n",
       "      <th>booming</th>\n",
       "      <td>4</td>\n",
       "      <td>7</td>\n",
       "      <td>11</td>\n",
       "      <td>0.000052</td>\n",
       "      <td>3.167626</td>\n",
       "      <td>7.832374</td>\n",
       "    </tr>\n",
       "    <tr>\n",
       "      <th>silicon</th>\n",
       "      <td>11</td>\n",
       "      <td>9</td>\n",
       "      <td>20</td>\n",
       "      <td>0.000094</td>\n",
       "      <td>5.759320</td>\n",
       "      <td>14.240680</td>\n",
       "    </tr>\n",
       "    <tr>\n",
       "      <th>movement</th>\n",
       "      <td>146</td>\n",
       "      <td>235</td>\n",
       "      <td>381</td>\n",
       "      <td>0.001786</td>\n",
       "      <td>109.715053</td>\n",
       "      <td>271.284947</td>\n",
       "    </tr>\n",
       "    <tr>\n",
       "      <th>trilogy</th>\n",
       "      <td>45</td>\n",
       "      <td>72</td>\n",
       "      <td>117</td>\n",
       "      <td>0.000549</td>\n",
       "      <td>33.692024</td>\n",
       "      <td>83.307976</td>\n",
       "    </tr>\n",
       "    <tr>\n",
       "      <th>baritone</th>\n",
       "      <td>2</td>\n",
       "      <td>8</td>\n",
       "      <td>10</td>\n",
       "      <td>0.000047</td>\n",
       "      <td>2.879660</td>\n",
       "      <td>7.120340</td>\n",
       "    </tr>\n",
       "  </tbody>\n",
       "</table>\n",
       "</div>"
      ],
      "text/plain": [
       "          high  low  total  proportion  expected_high  expected_low\n",
       "falsely      5   10     15    0.000070       4.319490     10.680510\n",
       "vertical    29   29     58    0.000272      16.702029     41.297971\n",
       "stetson      1    4      5    0.000023       1.439830      3.560170\n",
       "colorado    55  182    237    0.001111      68.247947    168.752053\n",
       "nuclear     80  141    221    0.001036      63.640490    157.359510\n",
       "booming      4    7     11    0.000052       3.167626      7.832374\n",
       "silicon     11    9     20    0.000094       5.759320     14.240680\n",
       "movement   146  235    381    0.001786     109.715053    271.284947\n",
       "trilogy     45   72    117    0.000549      33.692024     83.307976\n",
       "baritone     2    8     10    0.000047       2.879660      7.120340"
      ]
     },
     "execution_count": 90,
     "metadata": {},
     "output_type": "execute_result"
    }
   ],
   "source": [
    "#find expected(proportional) values for each term in the dataset\n",
    "observed_expected['total'] = observed_expected['high'] + observed_expected['low'] # for each term find total number of occurancies\n",
    "observed_expected['proportion'] = observed_expected['total'] / total_rows #find a proportion across the dataset\n",
    "observed_expected['expected_high'] = high_value_row_count * observed_expected['proportion']\n",
    "observed_expected['expected_low'] = low_value_row_count * observed_expected['proportion']\n",
    "observed_expected"
   ]
  },
  {
   "cell_type": "markdown",
   "metadata": {},
   "source": [
    "In next step we perform chi-square analysis."
   ]
  },
  {
   "cell_type": "code",
   "execution_count": 91,
   "metadata": {},
   "outputs": [
    {
     "data": {
      "text/plain": [
       "Power_divergenceResult(statistic=52.13990915448648, pvalue=6.304539065268636e-05)"
      ]
     },
     "execution_count": 91,
     "metadata": {},
     "output_type": "execute_result"
    }
   ],
   "source": [
    "#find chi-squared values\n",
    "from scipy.stats import chisquare\n",
    "observed = observed_expected['high'].to_list() + observed_expected['low'].to_list()\n",
    "expected = observed_expected['expected_high'].to_list() + observed_expected['expected_low'].to_list()\n",
    "chi_squared = chisquare(observed,f_exp=expected)\n",
    "chi_squared"
   ]
  },
  {
   "cell_type": "markdown",
   "metadata": {},
   "source": [
    "Statistical significance value is 99.994% which means that occurancies of terms in high-value and low-value questions happens not by chance. There is a strong case to reject null hypothesis. From the result of the chi-square test we can infer that studying topics related with common terms occuring in high-value questions can increase chances to perform better in the game."
   ]
  },
  {
   "cell_type": "markdown",
   "metadata": {},
   "source": [
    "# 3. Conclusion"
   ]
  },
  {
   "cell_type": "markdown",
   "metadata": {},
   "source": [
    "In this analysis we tried to answer three questions:\n",
    "    \n",
    "\n",
    "    -How often answers are found in the questions?\n",
    "\n",
    "    -Are there any relationship patterns between Round and Category values?\n",
    "\n",
    "    -Is it worth studying most common terms used in the questions?\n",
    "    \n",
    "We found that answer can be found in question nearly 5% of the time. It is worth to keep in mind that 1 out 20 questions will have their answer already stated in question itslef.\n",
    "\n",
    "It might be helpful, while preparing, to pay more attention to top categories used for Double Jeopardy! and Final Jeopardy! rounds since they have some categories that are used more often than others.\n",
    "\n",
    "Using chi-square test results it can be concluded that there are certain common terms used for high-value and low-value questions. Studying these terms could help improve performance on the show. "
   ]
  }
 ],
 "metadata": {
  "kernelspec": {
   "display_name": "Python 3",
   "language": "python",
   "name": "python3"
  },
  "language_info": {
   "codemirror_mode": {
    "name": "ipython",
    "version": 3
   },
   "file_extension": ".py",
   "mimetype": "text/x-python",
   "name": "python",
   "nbconvert_exporter": "python",
   "pygments_lexer": "ipython3",
   "version": "3.8.5"
  }
 },
 "nbformat": 4,
 "nbformat_minor": 4
}
